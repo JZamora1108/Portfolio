{
 "cells": [
  {
   "cell_type": "code",
   "execution_count": 86,
   "id": "86515bec",
   "metadata": {},
   "outputs": [],
   "source": [
    "import pandas as pd\n",
    "import numpy as np\n",
    "from imblearn.over_sampling import SMOTE\n",
    "import seaborn as sns\n",
    "import matplotlib.pyplot as plt\n",
    "from sklearn.model_selection import train_test_split\n",
    "from sklearn.metrics import confusion_matrix, classification_report\n",
    "from sklearn.metrics import roc_curve, auc\n",
    "from sklearn.neighbors import KNeighborsClassifier\n",
    "from sklearn.ensemble import RandomForestClassifier\n",
    "from sklearn.ensemble import VotingClassifier\n",
    "import os"
   ]
  },
  {
   "cell_type": "code",
   "execution_count": 55,
   "id": "d8671d22",
   "metadata": {},
   "outputs": [],
   "source": [
    "sns.set()"
   ]
  },
  {
   "cell_type": "code",
   "execution_count": 56,
   "id": "a5390266",
   "metadata": {},
   "outputs": [
    {
     "data": {
      "image/png": "[encoded data removed]",
      "text/plain": [
       "<Figure size 720x72 with 1 Axes>"
      ]
     },
     "metadata": {},
     "output_type": "display_data"
    }
   ],
   "source": [
    "def plot_color_palette(palette: str):\n",
    "    figure = sns.palplot(sns.color_palette())\n",
    "    plt.xlabel(\"Color palette: \" + palette)\n",
    "    plt.show(figure)\n",
    "\n",
    "palettes = [\"deep\"]\n",
    "for palette in palettes:\n",
    "    sns.set(palette=palette)\n",
    "    plot_color_palette(palette)"
   ]
  },
  {
   "cell_type": "code",
   "execution_count": 57,
   "id": "365af49a",
   "metadata": {},
   "outputs": [
    {
     "name": "stdout",
     "output_type": "stream",
     "text": [
      "<module 'os' from 'C:\\\\Users\\\\14029\\\\anaconda3\\\\lib\\\\os.py'>\n"
     ]
    }
   ],
   "source": [
    "print (os)"
   ]
  },
  {
   "cell_type": "code",
   "execution_count": 58,
   "id": "dc8f10c7",
   "metadata": {},
   "outputs": [],
   "source": [
    "data = pd.read_csv('Bank Fraud.csv')"
   ]
  },
  {
   "cell_type": "code",
   "execution_count": 59,
   "id": "4f669e52",
   "metadata": {},
   "outputs": [
    {
     "data": {
      "text/html": [
       "<div>\n",
       "<style scoped>\n",
       "    .dataframe tbody tr th:only-of-type {\n",
       "        vertical-align: middle;\n",
       "    }\n",
       "\n",
       "    .dataframe tbody tr th {\n",
       "        vertical-align: top;\n",
       "    }\n",
       "\n",
       "    .dataframe thead th {\n",
       "        text-align: right;\n",
       "    }\n",
       "</style>\n",
       "<table border=\"1\" class=\"dataframe\">\n",
       "  <thead>\n",
       "    <tr style=\"text-align: right;\">\n",
       "      <th></th>\n",
       "      <th>step</th>\n",
       "      <th>customer</th>\n",
       "      <th>age</th>\n",
       "      <th>gender</th>\n",
       "      <th>zipcodeOri</th>\n",
       "      <th>merchant</th>\n",
       "      <th>zipMerchant</th>\n",
       "      <th>category</th>\n",
       "      <th>amount</th>\n",
       "      <th>fraud</th>\n",
       "    </tr>\n",
       "  </thead>\n",
       "  <tbody>\n",
       "    <tr>\n",
       "      <th>0</th>\n",
       "      <td>0</td>\n",
       "      <td>'C1093826151'</td>\n",
       "      <td>'4'</td>\n",
       "      <td>'M'</td>\n",
       "      <td>'28007'</td>\n",
       "      <td>'M348934600'</td>\n",
       "      <td>'28007'</td>\n",
       "      <td>'es_transportation'</td>\n",
       "      <td>4.55</td>\n",
       "      <td>0</td>\n",
       "    </tr>\n",
       "    <tr>\n",
       "      <th>1</th>\n",
       "      <td>0</td>\n",
       "      <td>'C352968107'</td>\n",
       "      <td>'2'</td>\n",
       "      <td>'M'</td>\n",
       "      <td>'28007'</td>\n",
       "      <td>'M348934600'</td>\n",
       "      <td>'28007'</td>\n",
       "      <td>'es_transportation'</td>\n",
       "      <td>39.68</td>\n",
       "      <td>0</td>\n",
       "    </tr>\n",
       "    <tr>\n",
       "      <th>2</th>\n",
       "      <td>0</td>\n",
       "      <td>'C2054744914'</td>\n",
       "      <td>'4'</td>\n",
       "      <td>'F'</td>\n",
       "      <td>'28007'</td>\n",
       "      <td>'M1823072687'</td>\n",
       "      <td>'28007'</td>\n",
       "      <td>'es_transportation'</td>\n",
       "      <td>26.89</td>\n",
       "      <td>0</td>\n",
       "    </tr>\n",
       "    <tr>\n",
       "      <th>3</th>\n",
       "      <td>0</td>\n",
       "      <td>'C1760612790'</td>\n",
       "      <td>'3'</td>\n",
       "      <td>'M'</td>\n",
       "      <td>'28007'</td>\n",
       "      <td>'M348934600'</td>\n",
       "      <td>'28007'</td>\n",
       "      <td>'es_transportation'</td>\n",
       "      <td>17.25</td>\n",
       "      <td>0</td>\n",
       "    </tr>\n",
       "    <tr>\n",
       "      <th>4</th>\n",
       "      <td>0</td>\n",
       "      <td>'C757503768'</td>\n",
       "      <td>'5'</td>\n",
       "      <td>'M'</td>\n",
       "      <td>'28007'</td>\n",
       "      <td>'M348934600'</td>\n",
       "      <td>'28007'</td>\n",
       "      <td>'es_transportation'</td>\n",
       "      <td>35.72</td>\n",
       "      <td>0</td>\n",
       "    </tr>\n",
       "    <tr>\n",
       "      <th>5</th>\n",
       "      <td>0</td>\n",
       "      <td>'C1315400589'</td>\n",
       "      <td>'3'</td>\n",
       "      <td>'F'</td>\n",
       "      <td>'28007'</td>\n",
       "      <td>'M348934600'</td>\n",
       "      <td>'28007'</td>\n",
       "      <td>'es_transportation'</td>\n",
       "      <td>25.81</td>\n",
       "      <td>0</td>\n",
       "    </tr>\n",
       "    <tr>\n",
       "      <th>6</th>\n",
       "      <td>0</td>\n",
       "      <td>'C765155274'</td>\n",
       "      <td>'1'</td>\n",
       "      <td>'F'</td>\n",
       "      <td>'28007'</td>\n",
       "      <td>'M348934600'</td>\n",
       "      <td>'28007'</td>\n",
       "      <td>'es_transportation'</td>\n",
       "      <td>9.10</td>\n",
       "      <td>0</td>\n",
       "    </tr>\n",
       "    <tr>\n",
       "      <th>7</th>\n",
       "      <td>0</td>\n",
       "      <td>'C202531238'</td>\n",
       "      <td>'4'</td>\n",
       "      <td>'F'</td>\n",
       "      <td>'28007'</td>\n",
       "      <td>'M348934600'</td>\n",
       "      <td>'28007'</td>\n",
       "      <td>'es_transportation'</td>\n",
       "      <td>21.17</td>\n",
       "      <td>0</td>\n",
       "    </tr>\n",
       "    <tr>\n",
       "      <th>8</th>\n",
       "      <td>0</td>\n",
       "      <td>'C105845174'</td>\n",
       "      <td>'3'</td>\n",
       "      <td>'M'</td>\n",
       "      <td>'28007'</td>\n",
       "      <td>'M348934600'</td>\n",
       "      <td>'28007'</td>\n",
       "      <td>'es_transportation'</td>\n",
       "      <td>32.40</td>\n",
       "      <td>0</td>\n",
       "    </tr>\n",
       "    <tr>\n",
       "      <th>9</th>\n",
       "      <td>0</td>\n",
       "      <td>'C39858251'</td>\n",
       "      <td>'5'</td>\n",
       "      <td>'F'</td>\n",
       "      <td>'28007'</td>\n",
       "      <td>'M348934600'</td>\n",
       "      <td>'28007'</td>\n",
       "      <td>'es_transportation'</td>\n",
       "      <td>35.40</td>\n",
       "      <td>0</td>\n",
       "    </tr>\n",
       "  </tbody>\n",
       "</table>\n",
       "</div>"
      ],
      "text/plain": [
       "   step       customer  age gender zipcodeOri       merchant zipMerchant  \\\n",
       "0     0  'C1093826151'  '4'    'M'    '28007'   'M348934600'     '28007'   \n",
       "1     0   'C352968107'  '2'    'M'    '28007'   'M348934600'     '28007'   \n",
       "2     0  'C2054744914'  '4'    'F'    '28007'  'M1823072687'     '28007'   \n",
       "3     0  'C1760612790'  '3'    'M'    '28007'   'M348934600'     '28007'   \n",
       "4     0   'C757503768'  '5'    'M'    '28007'   'M348934600'     '28007'   \n",
       "5     0  'C1315400589'  '3'    'F'    '28007'   'M348934600'     '28007'   \n",
       "6     0   'C765155274'  '1'    'F'    '28007'   'M348934600'     '28007'   \n",
       "7     0   'C202531238'  '4'    'F'    '28007'   'M348934600'     '28007'   \n",
       "8     0   'C105845174'  '3'    'M'    '28007'   'M348934600'     '28007'   \n",
       "9     0    'C39858251'  '5'    'F'    '28007'   'M348934600'     '28007'   \n",
       "\n",
       "              category  amount  fraud  \n",
       "0  'es_transportation'    4.55      0  \n",
       "1  'es_transportation'   39.68      0  \n",
       "2  'es_transportation'   26.89      0  \n",
       "3  'es_transportation'   17.25      0  \n",
       "4  'es_transportation'   35.72      0  \n",
       "5  'es_transportation'   25.81      0  \n",
       "6  'es_transportation'    9.10      0  \n",
       "7  'es_transportation'   21.17      0  \n",
       "8  'es_transportation'   32.40      0  \n",
       "9  'es_transportation'   35.40      0  "
      ]
     },
     "execution_count": 59,
     "metadata": {},
     "output_type": "execute_result"
    }
   ],
   "source": [
    "data.head(10)"
   ]
  },
  {
   "cell_type": "markdown",
   "id": "1377e993",
   "metadata": {},
   "source": [
    "**Can see that no fraudulent activity is a zero and fraudulent activity is a 1"
   ]
  },
  {
   "cell_type": "code",
   "execution_count": 60,
   "id": "edd67417",
   "metadata": {},
   "outputs": [
    {
     "data": {
      "image/png": "[encoded data removed]",
      "text/plain": [
       "<Figure size 432x288 with 1 Axes>"
      ]
     },
     "metadata": {},
     "output_type": "display_data"
    },
    {
     "name": "stdout",
     "output_type": "stream",
     "text": [
      "Number of normal examples:  587443\n",
      "Number of fradulent examples:  7200\n"
     ]
    }
   ],
   "source": [
    "# Create dataframs that show no fraudulent activty and fradulent activity\n",
    "df_fraud = data.loc[data.fraud == 1] \n",
    "df_non_fraud = data.loc[data.fraud == 0]\n",
    "\n",
    "sns.countplot(x=\"fraud\",data=data)\n",
    "plt.title(\"Count of Fraudulent Payments\")\n",
    "plt.show()\n",
    "print(\"Number of normal examples: \",df_non_fraud.fraud.count())\n",
    "print(\"Number of fradulent examples: \",df_fraud.fraud.count())"
   ]
  },
  {
   "cell_type": "code",
   "execution_count": 61,
   "id": "d0e13c78",
   "metadata": {},
   "outputs": [
    {
     "name": "stdout",
     "output_type": "stream",
     "text": [
      "Mean feature values per category                               amount     fraud\n",
      "category                                      \n",
      "'es_barsandrestaurants'    43.461014  0.018829\n",
      "'es_contents'              44.547571  0.000000\n",
      "'es_fashion'               65.666642  0.017973\n",
      "'es_food'                  37.070405  0.000000\n",
      "'es_health'               135.621367  0.105126\n",
      "'es_home'                 165.670846  0.152064\n",
      "'es_hotelservices'        205.614249  0.314220\n",
      "'es_hyper'                 45.970421  0.045917\n",
      "'es_leisure'              288.911303  0.949900\n",
      "'es_otherservices'        135.881524  0.250000\n",
      "'es_sportsandtoys'        215.715280  0.495252\n",
      "'es_tech'                 120.947937  0.066667\n",
      "'es_transportation'        26.958187  0.000000\n",
      "'es_travel'              2250.409190  0.793956\n",
      "'es_wellnessandbeauty'     65.511221  0.047594\n"
     ]
    },
    {
     "name": "stderr",
     "output_type": "stream",
     "text": [
      "C:\\Users\\14029\\AppData\\Local\\Temp/ipykernel_16144/2806576502.py:2: FutureWarning: Indexing with multiple keys (implicitly converted to a tuple of keys) will be deprecated, use a list instead.\n",
      "  print(\"Mean feature values per category\",data.groupby('category')['amount','fraud'].mean())\n"
     ]
    }
   ],
   "source": [
    "## Group by fraud activity to view which areas are targetted\n",
    "print(\"Mean feature values per category\",data.groupby('category')['amount','fraud'].mean())"
   ]
  },
  {
   "cell_type": "code",
   "execution_count": 62,
   "id": "c97ee6e7",
   "metadata": {},
   "outputs": [
    {
     "data": {
      "text/html": [
       "<div>\n",
       "<style scoped>\n",
       "    .dataframe tbody tr th:only-of-type {\n",
       "        vertical-align: middle;\n",
       "    }\n",
       "\n",
       "    .dataframe tbody tr th {\n",
       "        vertical-align: top;\n",
       "    }\n",
       "\n",
       "    .dataframe thead th {\n",
       "        text-align: right;\n",
       "    }\n",
       "</style>\n",
       "<table border=\"1\" class=\"dataframe\">\n",
       "  <thead>\n",
       "    <tr style=\"text-align: right;\">\n",
       "      <th></th>\n",
       "      <th>Fraudulent</th>\n",
       "      <th>Non-Fraudulent</th>\n",
       "      <th>Percent(%)</th>\n",
       "    </tr>\n",
       "    <tr>\n",
       "      <th>category</th>\n",
       "      <th></th>\n",
       "      <th></th>\n",
       "      <th></th>\n",
       "    </tr>\n",
       "  </thead>\n",
       "  <tbody>\n",
       "    <tr>\n",
       "      <th>'es_transportation'</th>\n",
       "      <td>NaN</td>\n",
       "      <td>26.958187</td>\n",
       "      <td>0.000000</td>\n",
       "    </tr>\n",
       "    <tr>\n",
       "      <th>'es_food'</th>\n",
       "      <td>NaN</td>\n",
       "      <td>37.070405</td>\n",
       "      <td>0.000000</td>\n",
       "    </tr>\n",
       "    <tr>\n",
       "      <th>'es_hyper'</th>\n",
       "      <td>169.255429</td>\n",
       "      <td>40.037145</td>\n",
       "      <td>4.591669</td>\n",
       "    </tr>\n",
       "    <tr>\n",
       "      <th>'es_barsandrestaurants'</th>\n",
       "      <td>164.092667</td>\n",
       "      <td>41.145997</td>\n",
       "      <td>1.882944</td>\n",
       "    </tr>\n",
       "    <tr>\n",
       "      <th>'es_contents'</th>\n",
       "      <td>NaN</td>\n",
       "      <td>44.547571</td>\n",
       "      <td>0.000000</td>\n",
       "    </tr>\n",
       "    <tr>\n",
       "      <th>'es_wellnessandbeauty'</th>\n",
       "      <td>229.422535</td>\n",
       "      <td>57.320219</td>\n",
       "      <td>4.759380</td>\n",
       "    </tr>\n",
       "    <tr>\n",
       "      <th>'es_fashion'</th>\n",
       "      <td>247.008190</td>\n",
       "      <td>62.347674</td>\n",
       "      <td>1.797335</td>\n",
       "    </tr>\n",
       "    <tr>\n",
       "      <th>'es_leisure'</th>\n",
       "      <td>300.286878</td>\n",
       "      <td>73.230400</td>\n",
       "      <td>94.989980</td>\n",
       "    </tr>\n",
       "    <tr>\n",
       "      <th>'es_otherservices'</th>\n",
       "      <td>316.469605</td>\n",
       "      <td>75.685497</td>\n",
       "      <td>25.000000</td>\n",
       "    </tr>\n",
       "    <tr>\n",
       "      <th>'es_sportsandtoys'</th>\n",
       "      <td>345.366811</td>\n",
       "      <td>88.502738</td>\n",
       "      <td>49.525237</td>\n",
       "    </tr>\n",
       "    <tr>\n",
       "      <th>'es_tech'</th>\n",
       "      <td>415.274114</td>\n",
       "      <td>99.924638</td>\n",
       "      <td>6.666667</td>\n",
       "    </tr>\n",
       "    <tr>\n",
       "      <th>'es_health'</th>\n",
       "      <td>407.031338</td>\n",
       "      <td>103.737228</td>\n",
       "      <td>10.512614</td>\n",
       "    </tr>\n",
       "    <tr>\n",
       "      <th>'es_hotelservices'</th>\n",
       "      <td>421.823339</td>\n",
       "      <td>106.548545</td>\n",
       "      <td>31.422018</td>\n",
       "    </tr>\n",
       "    <tr>\n",
       "      <th>'es_home'</th>\n",
       "      <td>457.484834</td>\n",
       "      <td>113.338409</td>\n",
       "      <td>15.206445</td>\n",
       "    </tr>\n",
       "    <tr>\n",
       "      <th>'es_travel'</th>\n",
       "      <td>2660.802872</td>\n",
       "      <td>669.025533</td>\n",
       "      <td>79.395604</td>\n",
       "    </tr>\n",
       "  </tbody>\n",
       "</table>\n",
       "</div>"
      ],
      "text/plain": [
       "                          Fraudulent  Non-Fraudulent  Percent(%)\n",
       "category                                                        \n",
       "'es_transportation'              NaN       26.958187    0.000000\n",
       "'es_food'                        NaN       37.070405    0.000000\n",
       "'es_hyper'                169.255429       40.037145    4.591669\n",
       "'es_barsandrestaurants'   164.092667       41.145997    1.882944\n",
       "'es_contents'                    NaN       44.547571    0.000000\n",
       "'es_wellnessandbeauty'    229.422535       57.320219    4.759380\n",
       "'es_fashion'              247.008190       62.347674    1.797335\n",
       "'es_leisure'              300.286878       73.230400   94.989980\n",
       "'es_otherservices'        316.469605       75.685497   25.000000\n",
       "'es_sportsandtoys'        345.366811       88.502738   49.525237\n",
       "'es_tech'                 415.274114       99.924638    6.666667\n",
       "'es_health'               407.031338      103.737228   10.512614\n",
       "'es_hotelservices'        421.823339      106.548545   31.422018\n",
       "'es_home'                 457.484834      113.338409   15.206445\n",
       "'es_travel'              2660.802872      669.025533   79.395604"
      ]
     },
     "execution_count": 62,
     "metadata": {},
     "output_type": "execute_result"
    }
   ],
   "source": [
    "##Drill down to view fraudulent activity by category\n",
    "pd.concat([df_fraud.groupby('category')['amount'].mean(),df_non_fraud.groupby('category')['amount'].mean(),\\\n",
    "           data.groupby('category')['fraud'].mean()*100],keys=[\"Fraudulent\",\"Non-Fraudulent\",\"Percent(%)\"],axis=1,\\\n",
    "          sort=False).sort_values(by=['Non-Fraudulent'])"
   ]
  },
  {
   "cell_type": "markdown",
   "id": "8a2346cf",
   "metadata": {},
   "source": [
    "**Verifying that leisure and travel are by far the most targetted activites for fraud"
   ]
  },
  {
   "cell_type": "code",
   "execution_count": 63,
   "id": "5ce40f3a",
   "metadata": {},
   "outputs": [
    {
     "name": "stderr",
     "output_type": "stream",
     "text": [
      "No handles with labels found to put in legend.\n"
     ]
    },
    {
     "data": {
      "image/png": "[encoded data removed]",
      "text/plain": [
       "<Figure size 2160x720 with 1 Axes>"
      ]
     },
     "metadata": {},
     "output_type": "display_data"
    }
   ],
   "source": [
    "## Plotting the amounts in fraud and non-fraud data \n",
    "plt.figure(figsize=(30,10))\n",
    "sns.boxplot(x=data.category,y=data.amount)\n",
    "plt.title(\"Boxplot for the Amount spend in category\")\n",
    "plt.ylim(0,4000)\n",
    "plt.legend()\n",
    "plt.show()"
   ]
  },
  {
   "cell_type": "code",
   "execution_count": 64,
   "id": "528a37a3",
   "metadata": {},
   "outputs": [
    {
     "name": "stdout",
     "output_type": "stream",
     "text": [
      "   Age  Fraud Percent\n",
      "7  'U'       0.594228\n",
      "6  '6'       0.974826\n",
      "5  '5'       1.095112\n",
      "1  '1'       1.185254\n",
      "3  '3'       1.192815\n",
      "2  '2'       1.251401\n",
      "4  '4'       1.293281\n",
      "0  '0'       1.957586\n"
     ]
    }
   ],
   "source": [
    "print((data.groupby('age')['fraud'].mean()*100).reset_index().rename(columns={'age':'Age','fraud' : 'Fraud Percent'}).sort_values(by='Fraud Percent'))"
   ]
  },
  {
   "cell_type": "markdown",
   "id": "3fe78964",
   "metadata": {},
   "source": [
    "**Data is likely incorrect as the ages of fraudlent individuals is showing 6 at max. Would need to know additional information"
   ]
  },
  {
   "cell_type": "code",
   "execution_count": 65,
   "id": "d9a3084c",
   "metadata": {},
   "outputs": [
    {
     "name": "stdout",
     "output_type": "stream",
     "text": [
      "Unique zipCodeOri values:  1\n",
      "Unique zipMerchant values:  1\n"
     ]
    }
   ],
   "source": [
    "print(\"Unique zipCodeOri values: \",data.zipcodeOri.nunique())\n",
    "print(\"Unique zipMerchant values: \",data.zipMerchant.nunique())"
   ]
  },
  {
   "cell_type": "code",
   "execution_count": 66,
   "id": "9d676ac3",
   "metadata": {},
   "outputs": [],
   "source": [
    "## Dropping zip code ori and zip merchant as the 1 unique value is not needed\n",
    "data_reduced = data.drop(['zipcodeOri','zipMerchant'],axis=1)"
   ]
  },
  {
   "cell_type": "code",
   "execution_count": 67,
   "id": "0df3c085",
   "metadata": {},
   "outputs": [
    {
     "data": {
      "text/plain": [
       "Index(['step', 'customer', 'age', 'gender', 'merchant', 'category', 'amount',\n",
       "       'fraud'],\n",
       "      dtype='object')"
      ]
     },
     "execution_count": 67,
     "metadata": {},
     "output_type": "execute_result"
    }
   ],
   "source": [
    "data_reduced.columns"
   ]
  },
  {
   "cell_type": "code",
   "execution_count": 68,
   "id": "66e023a4",
   "metadata": {},
   "outputs": [],
   "source": [
    "##Transforming data to catergorical data\n",
    "col_categorical = data_reduced.select_dtypes(include= ['object']).columns\n",
    "for col in col_categorical:\n",
    "    data_reduced[col] = data_reduced[col].astype('category')"
   ]
  },
  {
   "cell_type": "code",
   "execution_count": 69,
   "id": "650b46ea",
   "metadata": {},
   "outputs": [
    {
     "data": {
      "text/html": [
       "<div>\n",
       "<style scoped>\n",
       "    .dataframe tbody tr th:only-of-type {\n",
       "        vertical-align: middle;\n",
       "    }\n",
       "\n",
       "    .dataframe tbody tr th {\n",
       "        vertical-align: top;\n",
       "    }\n",
       "\n",
       "    .dataframe thead th {\n",
       "        text-align: right;\n",
       "    }\n",
       "</style>\n",
       "<table border=\"1\" class=\"dataframe\">\n",
       "  <thead>\n",
       "    <tr style=\"text-align: right;\">\n",
       "      <th></th>\n",
       "      <th>step</th>\n",
       "      <th>customer</th>\n",
       "      <th>age</th>\n",
       "      <th>gender</th>\n",
       "      <th>merchant</th>\n",
       "      <th>category</th>\n",
       "      <th>amount</th>\n",
       "      <th>fraud</th>\n",
       "    </tr>\n",
       "  </thead>\n",
       "  <tbody>\n",
       "    <tr>\n",
       "      <th>0</th>\n",
       "      <td>0</td>\n",
       "      <td>210</td>\n",
       "      <td>4</td>\n",
       "      <td>2</td>\n",
       "      <td>30</td>\n",
       "      <td>12</td>\n",
       "      <td>4.55</td>\n",
       "      <td>0</td>\n",
       "    </tr>\n",
       "    <tr>\n",
       "      <th>1</th>\n",
       "      <td>0</td>\n",
       "      <td>2753</td>\n",
       "      <td>2</td>\n",
       "      <td>2</td>\n",
       "      <td>30</td>\n",
       "      <td>12</td>\n",
       "      <td>39.68</td>\n",
       "      <td>0</td>\n",
       "    </tr>\n",
       "    <tr>\n",
       "      <th>2</th>\n",
       "      <td>0</td>\n",
       "      <td>2285</td>\n",
       "      <td>4</td>\n",
       "      <td>1</td>\n",
       "      <td>18</td>\n",
       "      <td>12</td>\n",
       "      <td>26.89</td>\n",
       "      <td>0</td>\n",
       "    </tr>\n",
       "    <tr>\n",
       "      <th>3</th>\n",
       "      <td>0</td>\n",
       "      <td>1650</td>\n",
       "      <td>3</td>\n",
       "      <td>2</td>\n",
       "      <td>30</td>\n",
       "      <td>12</td>\n",
       "      <td>17.25</td>\n",
       "      <td>0</td>\n",
       "    </tr>\n",
       "    <tr>\n",
       "      <th>4</th>\n",
       "      <td>0</td>\n",
       "      <td>3585</td>\n",
       "      <td>5</td>\n",
       "      <td>2</td>\n",
       "      <td>30</td>\n",
       "      <td>12</td>\n",
       "      <td>35.72</td>\n",
       "      <td>0</td>\n",
       "    </tr>\n",
       "  </tbody>\n",
       "</table>\n",
       "</div>"
      ],
      "text/plain": [
       "   step  customer  age  gender  merchant  category  amount  fraud\n",
       "0     0       210    4       2        30        12    4.55      0\n",
       "1     0      2753    2       2        30        12   39.68      0\n",
       "2     0      2285    4       1        18        12   26.89      0\n",
       "3     0      1650    3       2        30        12   17.25      0\n",
       "4     0      3585    5       2        30        12   35.72      0"
      ]
     },
     "execution_count": 69,
     "metadata": {},
     "output_type": "execute_result"
    }
   ],
   "source": [
    "##Viewing data after reduction\n",
    "data_reduced[col_categorical] = data_reduced[col_categorical].apply(lambda x: x.cat.codes)\n",
    "data_reduced.head(5)"
   ]
  },
  {
   "cell_type": "code",
   "execution_count": 70,
   "id": "f69aad17",
   "metadata": {},
   "outputs": [
    {
     "name": "stdout",
     "output_type": "stream",
     "text": [
      "   step  customer  age  gender  merchant  category  amount\n",
      "0     0       210    4       2        30        12    4.55\n",
      "1     0      2753    2       2        30        12   39.68\n",
      "2     0      2285    4       1        18        12   26.89\n",
      "3     0      1650    3       2        30        12   17.25\n",
      "4     0      3585    5       2        30        12   35.72 \n",
      "\n",
      "0    0\n",
      "1    0\n",
      "2    0\n",
      "3    0\n",
      "4    0\n",
      "Name: fraud, dtype: int64\n"
     ]
    }
   ],
   "source": [
    "X = data_reduced.drop(['fraud'],axis=1)\n",
    "y = data['fraud']\n",
    "print(X.head(),\"\\n\")\n",
    "print(y.head())"
   ]
  },
  {
   "cell_type": "code",
   "execution_count": 71,
   "id": "07562c2c",
   "metadata": {},
   "outputs": [
    {
     "data": {
      "text/plain": [
       "7200"
      ]
     },
     "execution_count": 71,
     "metadata": {},
     "output_type": "execute_result"
    }
   ],
   "source": [
    "y[y==1].count()"
   ]
  },
  {
   "cell_type": "code",
   "execution_count": 78,
   "id": "ab83e35d",
   "metadata": {},
   "outputs": [
    {
     "name": "stdout",
     "output_type": "stream",
     "text": [
      "fraud\n",
      "0        587443\n",
      "1        587443\n",
      "dtype: int64\n"
     ]
    }
   ],
   "source": [
    "sm = SMOTE(random_state=42)\n",
    "X_res, y_res = sm.fit_resample(X, y)\n",
    "y_res = pd.DataFrame(y_res)\n",
    "print(y_res.value_counts())"
   ]
  },
  {
   "cell_type": "markdown",
   "id": "563a164d",
   "metadata": {},
   "source": [
    "**Validation that the SMOTE has equal values in the 1 and 2"
   ]
  },
  {
   "cell_type": "code",
   "execution_count": 79,
   "id": "b7d9ef0f",
   "metadata": {},
   "outputs": [],
   "source": [
    "X_train, X_test, y_train, y_test = train_test_split(X_res,y_res,test_size=0.3,random_state=42,shuffle=True,stratify=y_res)"
   ]
  },
  {
   "cell_type": "code",
   "execution_count": 80,
   "id": "dc4d0727",
   "metadata": {},
   "outputs": [],
   "source": [
    "def plot_roc_auc(y_test, preds):\n",
    "    ##Receiver Operating Characteristic Curve set up\n",
    "    fpr, tpr, threshold = roc_curve(y_test, preds)\n",
    "    roc_auc = auc(fpr, tpr)\n",
    "    plt.title('Receiver Operating Characteristic')\n",
    "    plt.plot(fpr, tpr, 'b', label = 'AUC = %0.2f' % roc_auc)\n",
    "    plt.legend(loc = 'lower right')\n",
    "    plt.plot([0, 1], [0, 1],'r--')\n",
    "    plt.xlim([0, 1])\n",
    "    plt.ylim([0, 1])\n",
    "    plt.ylabel('True Positive Rate')\n",
    "    plt.xlabel('False Positive Rate')\n",
    "    plt.show()"
   ]
  },
  {
   "cell_type": "code",
   "execution_count": 82,
   "id": "5ade6d9b",
   "metadata": {},
   "outputs": [
    {
     "name": "stdout",
     "output_type": "stream",
     "text": [
      "Base accuracy score should be over:  98.7891894800746\n"
     ]
    }
   ],
   "source": [
    "print(\"Base accuracy score should be over: \", \n",
    "      df_non_fraud.fraud.count()/ np.add(df_non_fraud.fraud.count(),df_fraud.fraud.count()) * 100)"
   ]
  },
  {
   "cell_type": "markdown",
   "id": "78db5e02",
   "metadata": {},
   "source": [
    "**Setting up k clustering - - remember the 98.78"
   ]
  },
  {
   "cell_type": "code",
   "execution_count": 83,
   "id": "1f9ae747",
   "metadata": {},
   "outputs": [],
   "source": [
    "knn = KNeighborsClassifier(n_neighbors=5,p=1)"
   ]
  },
  {
   "cell_type": "code",
   "execution_count": 84,
   "id": "2a6a1cae",
   "metadata": {},
   "outputs": [
    {
     "name": "stderr",
     "output_type": "stream",
     "text": [
      "C:\\Users\\14029\\anaconda3\\lib\\site-packages\\sklearn\\neighbors\\_classification.py:200: DataConversionWarning: A column-vector y was passed when a 1d array was expected. Please change the shape of y to (n_samples,), for example using ravel().\n",
      "  return self._fit(X, y)\n"
     ]
    }
   ],
   "source": [
    "knn.fit(X_train,y_train)\n",
    "y_pred = knn.predict(X_test)"
   ]
  },
  {
   "cell_type": "code",
   "execution_count": 85,
   "id": "13665ca0",
   "metadata": {},
   "outputs": [
    {
     "name": "stdout",
     "output_type": "stream",
     "text": [
      "Classification Report for K-Nearest Neighbours: \n",
      "               precision    recall  f1-score   support\n",
      "\n",
      "           0       1.00      0.98      0.99    176233\n",
      "           1       0.98      1.00      0.99    176233\n",
      "\n",
      "    accuracy                           0.99    352466\n",
      "   macro avg       0.99      0.99      0.99    352466\n",
      "weighted avg       0.99      0.99      0.99    352466\n",
      "\n",
      "Confusion Matrix of K-Nearest Neigbours: \n",
      " [[171999   4234]\n",
      " [   362 175871]]\n"
     ]
    },
    {
     "data": {
      "image/png": "[encoded data removed]",
      "text/plain": [
       "<Figure size 432x288 with 1 Axes>"
      ]
     },
     "metadata": {},
     "output_type": "display_data"
    }
   ],
   "source": [
    "print(\"Classification Report for K-Nearest Neighbours: \\n\", classification_report(y_test, y_pred))\n",
    "print(\"Confusion Matrix of K-Nearest Neigbours: \\n\", confusion_matrix(y_test,y_pred))\n",
    "plot_roc_auc(y_test, knn.predict_proba(X_test)[:,1])"
   ]
  },
  {
   "cell_type": "markdown",
   "id": "42644a78",
   "metadata": {},
   "source": [
    "**Classification report shows that the weighted average is .99! This has been a successfful deployment of the model!"
   ]
  }
 ],
 "metadata": {
  "kernelspec": {
   "display_name": "Python 3 (ipykernel)",
   "language": "python",
   "name": "python3"
  },
  "language_info": {
   "codemirror_mode": {
    "name": "ipython",
    "version": 3
   },
   "file_extension": ".py",
   "mimetype": "text/x-python",
   "name": "python",
   "nbconvert_exporter": "python",
   "pygments_lexer": "ipython3",
   "version": "3.9.7"
  }
 },
 "nbformat": 4,
 "nbformat_minor": 5
}
